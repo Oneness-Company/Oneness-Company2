{
  "nbformat": 4,
  "nbformat_minor": 0,
  "metadata": {
    "colab": {
      "provenance": [],
      "authorship_tag": "ABX9TyNYjPYlmIT7hm1ApXs/x2ib",
      "include_colab_link": true
    },
    "kernelspec": {
      "name": "python3",
      "display_name": "Python 3"
    },
    "language_info": {
      "name": "python"
    }
  },
  "cells": [
    {
      "cell_type": "markdown",
      "metadata": {
        "id": "view-in-github",
        "colab_type": "text"
      },
      "source": [
        "<a href=\"https://colab.research.google.com/github/Oneness-Company/Oneness-Company2/blob/main/Qlearning.ipynb\" target=\"_parent\"><img src=\"https://colab.research.google.com/assets/colab-badge.svg\" alt=\"Open In Colab\"/></a>"
      ]
    },
    {
      "cell_type": "code",
      "source": [
        "import numpy as nm"
      ],
      "metadata": {
        "id": "WQ1W3CDYfFPb"
      },
      "execution_count": null,
      "outputs": []
    },
    {
      "cell_type": "code",
      "execution_count": null,
      "metadata": {
        "id": "1XMqTWCPcxBd"
      },
      "outputs": [],
      "source": [
        "\n",
        " R = nm.matrix([\n",
        "     [-1,-1,-1,-1, 0,-1],\n",
        "     [-1,-1,-1,0,-1,100],\n",
        "     [-1,-1,-1,0,-1,-1],\n",
        "     [-1,0,0,-1,0,-1],\n",
        "     [-1,0,0,-1,-1,100],\n",
        "     [-1,0,-1,-1,0,100]])\n",
        "\n"
      ]
    },
    {
      "cell_type": "code",
      "source": [
        "Q = nm.matrix(nm.zeros([6,6]))"
      ],
      "metadata": {
        "id": "7VqIDq0XevNy"
      },
      "execution_count": null,
      "outputs": []
    },
    {
      "cell_type": "code",
      "source": [
        "print(Q)"
      ],
      "metadata": {
        "colab": {
          "base_uri": "https://localhost:8080/"
        },
        "id": "ni-AnWwafRZU",
        "outputId": "53cc2594-4f4c-49c5-91cf-0928524e6d3d"
      },
      "execution_count": null,
      "outputs": [
        {
          "output_type": "stream",
          "name": "stdout",
          "text": [
            "[[0. 0. 0. 0. 0. 0.]\n",
            " [0. 0. 0. 0. 0. 0.]\n",
            " [0. 0. 0. 0. 0. 0.]\n",
            " [0. 0. 0. 0. 0. 0.]\n",
            " [0. 0. 0. 0. 0. 0.]\n",
            " [0. 0. 0. 0. 0. 0.]]\n"
          ]
        }
      ]
    },
    {
      "cell_type": "code",
      "source": [
        "gamma = 0.8\n",
        "intial_state = 1"
      ],
      "metadata": {
        "id": "PP6uEtzSfX31"
      },
      "execution_count": null,
      "outputs": []
    },
    {
      "cell_type": "code",
      "source": [
        "def available_actions(state):\n",
        "  current_state_row = R[state,]\n",
        "  av_act = nm.where(current_state_row >=0)[1]\n",
        "  return av_act"
      ],
      "metadata": {
        "id": "ZrzuoI0jfgdt"
      },
      "execution_count": null,
      "outputs": []
    },
    {
      "cell_type": "code",
      "source": [
        "available_act = available_actions(intial_state)\n",
        "print(available_act)"
      ],
      "metadata": {
        "colab": {
          "base_uri": "https://localhost:8080/"
        },
        "id": "nZFq8kfRgT2l",
        "outputId": "574b58e9-ab28-41be-bdd9-2be5b1d8f50c"
      },
      "execution_count": null,
      "outputs": [
        {
          "output_type": "stream",
          "name": "stdout",
          "text": [
            "[3 5]\n"
          ]
        }
      ]
    },
    {
      "cell_type": "code",
      "source": [
        "def sample_next_action(available_act):\n",
        "  next_action = int(nm.random.choice(available_act,1))\n",
        "  return next_action"
      ],
      "metadata": {
        "id": "pNE881MnlAzj"
      },
      "execution_count": null,
      "outputs": []
    },
    {
      "cell_type": "code",
      "source": [
        "action = sample_next_action(available_act)\n",
        "print(action)"
      ],
      "metadata": {
        "colab": {
          "base_uri": "https://localhost:8080/"
        },
        "id": "H77EzHLAmE2a",
        "outputId": "84a6cf36-c1a9-46a5-e6be-6b72f92fa853"
      },
      "execution_count": null,
      "outputs": [
        {
          "output_type": "stream",
          "name": "stdout",
          "text": [
            "5\n"
          ]
        },
        {
          "output_type": "stream",
          "name": "stderr",
          "text": [
            "<ipython-input-9-b8845f5599c3>:2: DeprecationWarning: Conversion of an array with ndim > 0 to a scalar is deprecated, and will error in future. Ensure you extract a single element from your array before performing this operation. (Deprecated NumPy 1.25.)\n",
            "  next_action = int(nm.random.choice(available_act,1))\n"
          ]
        }
      ]
    },
    {
      "cell_type": "code",
      "source": [
        "def update(current_state,action,gamma):\n",
        "  max_index = nm.where(Q[action,]==nm.max(Q[action,]))[1]\n",
        "  if max_index.shape[0]>1:\n",
        "    max_index = int(nm.random.choice(max_index,size = 1))\n",
        "  else:\n",
        "    max_index = int(max_index)\n",
        "  max_value = Q[action,max_index]\n",
        "  Q[current_state,action] = R[current_state,action] + gamma * max_value\n",
        "\n"
      ],
      "metadata": {
        "id": "xxVpCZ9lmOPO"
      },
      "execution_count": null,
      "outputs": []
    },
    {
      "cell_type": "code",
      "source": [
        "for i in range(10000):\n",
        "  current_state = nm.random.randint(0,int(Q.shape[0]))\n",
        "  available_act = available_actions(current_state)\n",
        "  action = sample_next_action(available_act)\n",
        "  update(current_state,action,gamma)"
      ],
      "metadata": {
        "id": "MYLPsmWtqPGT",
        "colab": {
          "base_uri": "https://localhost:8080/"
        },
        "outputId": "d7b7da66-0072-4c5d-fa16-d717417e3586"
      },
      "execution_count": null,
      "outputs": [
        {
          "output_type": "stream",
          "name": "stderr",
          "text": [
            "<ipython-input-9-b8845f5599c3>:2: DeprecationWarning: Conversion of an array with ndim > 0 to a scalar is deprecated, and will error in future. Ensure you extract a single element from your array before performing this operation. (Deprecated NumPy 1.25.)\n",
            "  next_action = int(nm.random.choice(available_act,1))\n",
            "<ipython-input-13-c883ffe5c87a>:4: DeprecationWarning: Conversion of an array with ndim > 0 to a scalar is deprecated, and will error in future. Ensure you extract a single element from your array before performing this operation. (Deprecated NumPy 1.25.)\n",
            "  max_index = int(nm.random.choice(max_index,size = 1))\n",
            "<ipython-input-13-c883ffe5c87a>:6: DeprecationWarning: Conversion of an array with ndim > 0 to a scalar is deprecated, and will error in future. Ensure you extract a single element from your array before performing this operation. (Deprecated NumPy 1.25.)\n",
            "  max_index = int(max_index)\n"
          ]
        }
      ]
    },
    {
      "cell_type": "code",
      "source": [
        "print(Q)"
      ],
      "metadata": {
        "colab": {
          "base_uri": "https://localhost:8080/"
        },
        "id": "OcJUh-iu_MEo",
        "outputId": "d4e8f998-03c1-46da-98c2-0a1e2ea99bb1"
      },
      "execution_count": null,
      "outputs": [
        {
          "output_type": "stream",
          "name": "stdout",
          "text": [
            "[[  0.   0.   0.   0. 400.   0.]\n",
            " [  0.   0.   0. 320.  -1. 500.]\n",
            " [  0.   0.   0. 320.   0.   0.]\n",
            " [  0. 400. 256.   0. 400.   0.]\n",
            " [  0. 400. 256.   0.   0. 500.]\n",
            " [  0. 400.   0.   0. 400. 500.]]\n"
          ]
        }
      ]
    },
    {
      "cell_type": "code",
      "source": [
        "print(Q/nm.max(Q)*100)"
      ],
      "metadata": {
        "colab": {
          "base_uri": "https://localhost:8080/"
        },
        "id": "yT1zX2Vx_ZFn",
        "outputId": "62c03aa8-158d-4c11-ec74-87e0fc9bd4c3"
      },
      "execution_count": null,
      "outputs": [
        {
          "output_type": "stream",
          "name": "stdout",
          "text": [
            "[[  0.    0.    0.    0.   80.    0. ]\n",
            " [  0.    0.    0.   64.   -0.2 100. ]\n",
            " [  0.    0.    0.   64.    0.    0. ]\n",
            " [  0.   80.   51.2   0.   80.    0. ]\n",
            " [  0.   80.   51.2   0.    0.  100. ]\n",
            " [  0.   80.    0.    0.   80.  100. ]]\n"
          ]
        }
      ]
    },
    {
      "cell_type": "code",
      "source": [
        "current_state = 2\n",
        "steps = [current_state]"
      ],
      "metadata": {
        "id": "o5i-49Uc_kdc"
      },
      "execution_count": null,
      "outputs": []
    },
    {
      "cell_type": "code",
      "source": [
        "while current_state !=5:\n",
        "  next_step_index = nm.where(Q[current_state,]==nm.max(Q[current_state,]))[1]\n",
        "  if next_step_index.shape[0]>1:\n",
        "    next_step_index = int(nm.random.choice(next_step_index,size = 1))\n",
        "\n",
        "  else:\n",
        "    next_step_index = int(next_step_index)\n",
        "  steps.append(next_step_index)\n",
        "  current_state = next_step_index\n",
        "print(steps)"
      ],
      "metadata": {
        "colab": {
          "base_uri": "https://localhost:8080/"
        },
        "id": "i_g9Je5M_yrV",
        "outputId": "5e9d0911-7954-4a55-c7f2-183a16e226d7"
      },
      "execution_count": 31,
      "outputs": [
        {
          "output_type": "stream",
          "name": "stdout",
          "text": [
            "[2, 3, 4, 5]\n"
          ]
        }
      ]
    },
    {
      "cell_type": "code",
      "source": [],
      "metadata": {
        "id": "dtpe1XMpEJ3I"
      },
      "execution_count": null,
      "outputs": []
    },
    {
      "cell_type": "code",
      "source": [
        "print(\"path: \",steps)"
      ],
      "metadata": {
        "colab": {
          "base_uri": "https://localhost:8080/"
        },
        "id": "IYe1RubADNIm",
        "outputId": "54d2c938-e773-4a9b-ccd0-1cbe09a78188"
      },
      "execution_count": null,
      "outputs": [
        {
          "output_type": "stream",
          "name": "stdout",
          "text": [
            "path:  [2]\n"
          ]
        }
      ]
    }
  ]
}